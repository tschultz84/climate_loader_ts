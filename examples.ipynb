{
 "cells": [
  {
   "cell_type": "code",
   "execution_count": 19,
   "id": "4b19d487",
   "metadata": {},
   "outputs": [],
   "source": [
    "import Station_Loader_ts as load\n",
    "\n",
    "from IPython.display import display_html "
   ]
  },
  {
   "cell_type": "markdown",
   "id": "8dbbab80",
   "metadata": {},
   "source": [
    "# Example 1: Weather in Bozeman, Montana.\n",
    "\n",
    "This station is located at a college with an agricultural department -- its record extends back to 1895, and it has over 122 years of data of high quality in that time period. I will search around [45.647256643331126,-111.04060494981753], the latitude and longitude of Bozeman.\n",
    "\n",
    "This station will be loaded using default filter parameters, which includes:\n",
    "* printudpate=False : detailed, line-by-line updates are not printed.\n",
    "* min_days_per_mo=15 : each year in the record must have at least 15 days in EVERY single month (and 12 months). Years which do not have 15 days for every month are not included.\n",
    "* search_radius=3 : the latitude and longitude around which the Reference point is searched.\n",
    "* firstyear=1900 : the earliest year which must be present in the record.\n",
    "* lastbaseyear=1955 : the last year to be used in the baseline period. (The baseline period is the years firstyear to lastbaseyear.)\n",
    "* basenoyears=30 : the number of years of data required in the baseline period (i.e. there must be 30 years of data between 1900 and 1955)\n",
    "* min_recent_years=5 : the minimum number of years of data in the last immediate record before the present.\n",
    "* required_trend_years =25 : the minimum number of complete years of data in the last 30 years.\n"
   ]
  },
  {
   "cell_type": "code",
   "execution_count": 2,
   "id": "c1fa763c",
   "metadata": {},
   "outputs": [
    {
     "name": "stdout",
     "output_type": "stream",
     "text": [
      "Searching closest station among 23 stations within 3.0 degrees of the reference.\n",
      "Which have data for 2021 and at least as early as 1900.0.\n",
      "Station ID# USC00241044, called MT BOZEMAN MONTANA STATE UNIV is complete. It's good to use.\n",
      "This station is 1.0690009151710391 miles from the reference point.\n"
     ]
    }
   ],
   "source": [
    "bzdata=load.LoadStation([45.647256643331126,-111.04060494981753]) #Loading in Bozeman, MT coordinates"
   ]
  },
  {
   "cell_type": "markdown",
   "id": "4197492c",
   "metadata": {},
   "source": [
    "## Review Bozeman Montana station information.\n",
    "Let's review the station metainformation and the filters used to search for it."
   ]
  },
  {
   "cell_type": "code",
   "execution_count": 8,
   "id": "2a8e526e",
   "metadata": {},
   "outputs": [
    {
     "name": "stdout",
     "output_type": "stream",
     "text": [
      "Station Meta Information:\n",
      "Weather Station Name                                      MT BOZEMAN MONTANA STATE UNIV\n",
      "Station ID                                                                  USC00241044\n",
      "Earliest year in station record                                                  1895.0\n",
      "Most recent year in record                                                       2022.0\n",
      "Number of years in record meeting quality requirements                              122\n",
      "Station Latitude                                                                45.6622\n",
      "Station Longitude                                                             -111.0464\n",
      "Reference Point Latitude                                                      45.647257\n",
      "Reference Point Longitude                                                   -111.040605\n",
      "Miles from Reference Point                                                     1.069001\n",
      "dtype: object\n",
      "Filters used to retrieve the station:\n",
      "Reference Point Latitude                         45.647257\n",
      "Reference Point Longitude                      -111.040605\n",
      "Earliest Year Required in Dataset              1900.000000\n",
      "Min Days in Every Month                          15.000000\n",
      "Search Radius (deg)                               3.000000\n",
      "Min Number of Years before Present Year           5.000000\n",
      "Min Years in Last 30 Years for Trend             25.000000\n",
      "Last Year of Baseline                          1955.000000\n",
      "Required Number of years in Baseline Period      30.000000\n",
      "dtype: float64\n"
     ]
    }
   ],
   "source": [
    "print(\"Station Meta Information:\")\n",
    "print(bzdata.station_information)\n",
    "print(\"Filters used to retrieve the station:\")\n",
    "print(bzdata.station_filters)"
   ]
  },
  {
   "cell_type": "markdown",
   "id": "c12b55cc",
   "metadata": {},
   "source": [
    "## Review the Data itself\n",
    "Take a look at the shape of the data and the first few rows.\n",
    "\n",
    "self.station_data is a numpy array having loaded all the station's data, a numpy array \n",
    "     with these columns: [Year, Month, Day, Day of Year, TMAX, TMIN, TMID]"
   ]
  },
  {
   "cell_type": "code",
   "execution_count": 12,
   "id": "7eeb5397",
   "metadata": {},
   "outputs": [
    {
     "name": "stdout",
     "output_type": "stream",
     "text": [
      "Shape of the station weather data for Bozeman is: (44310, 7)\n",
      "[[1.895e+03 1.000e+00 1.000e+00 1.000e+00 2.696e+01 1.940e+00 1.445e+01]\n",
      " [1.895e+03 1.000e+00 2.000e+00 2.000e+00 2.804e+01 3.920e+00 1.598e+01]\n",
      " [1.895e+03 1.000e+00 3.000e+00 3.000e+00 6.080e+00 1.940e+00 4.010e+00]\n",
      " [1.895e+03 1.000e+00 4.000e+00 4.000e+00 4.298e+01 2.498e+01 3.398e+01]\n",
      " [1.895e+03 1.000e+00 5.000e+00 5.000e+00 4.298e+01 2.408e+01 3.353e+01]\n",
      " [1.895e+03 1.000e+00 6.000e+00 6.000e+00 2.408e+01 1.796e+01 2.102e+01]\n",
      " [1.895e+03 1.000e+00 7.000e+00 7.000e+00 2.102e+01 1.940e+00 1.148e+01]\n",
      " [1.895e+03 1.000e+00 8.000e+00 8.000e+00 3.398e+01 6.080e+00 2.003e+01]\n",
      " [1.895e+03 1.000e+00 9.000e+00 9.000e+00 4.298e+01 1.094e+01 2.696e+01]\n",
      " [1.895e+03 1.000e+00 1.000e+01 1.000e+01 4.298e+01 2.408e+01 3.353e+01]]\n"
     ]
    }
   ],
   "source": [
    "print(f\"Shape of the station weather data for Bozeman is: {bzdata.station_data.shape}\")\n",
    "print(bzdata.station_data[0:10])\n"
   ]
  },
  {
   "cell_type": "markdown",
   "id": "22f2598c",
   "metadata": {},
   "source": [
    "# Example 2: Load in data for New York City\n",
    "Let's try New York.\n",
    "Unsurprisingly, there are a large number of weather stations in this region, with extensive records. Using the search below, I find one with a record extending back to 1869, with 154 years of complete weather station data."
   ]
  },
  {
   "cell_type": "code",
   "execution_count": 20,
   "id": "d5302bf5",
   "metadata": {},
   "outputs": [
    {
     "name": "stdout",
     "output_type": "stream",
     "text": [
      "Searching closest station among 40 stations within 3.0 degrees of the reference.\n",
      "Which have data for 2021 and at least as early as 1900.0.\n",
      "Station ID# USW00094728, called NY NEW YORK CNTRL PK TWR is complete. It's good to use.\n",
      "This station is 3.7777425339078192 miles from the reference point.\n"
     ]
    }
   ],
   "source": [
    "nycdata=load.LoadStation([40.730610, -73.935242],False) #Loading in New York City data\n"
   ]
  },
  {
   "cell_type": "code",
   "execution_count": 21,
   "id": "ee92ce3c",
   "metadata": {},
   "outputs": [
    {
     "data": {
      "text/plain": [
       "Weather Station Name                                      NY NEW YORK CNTRL PK TWR\n",
       "Station ID                                                             USW00094728\n",
       "Earliest year in station record                                             1869.0\n",
       "Most recent year in record                                                  2022.0\n",
       "Number of years in record meeting quality requirements                         154\n",
       "Station Latitude                                                           40.7789\n",
       "Station Longitude                                                         -73.9692\n",
       "Reference Point Latitude                                                  40.73061\n",
       "Reference Point Longitude                                               -73.935242\n",
       "Miles from Reference Point                                                3.777743\n",
       "dtype: object"
      ]
     },
     "execution_count": 21,
     "metadata": {},
     "output_type": "execute_result"
    }
   ],
   "source": [
    "nycdata.station_information"
   ]
  },
  {
   "cell_type": "markdown",
   "id": "5e4b10e2",
   "metadata": {},
   "source": [
    "# Example 3: Load in data for San Francisco, California\n",
    "Let's try San Francisco using the same parameters. Surprisingly, there are not good records near San Francisco - the closest one which meets all the default conditions is 40 miles away in Napa. I will let this run so you can see the kind of status output it giives. Then, I will change the earliest year to 1940 and the lastbaseyear to 1980, so you can actually see a weather station in San Francisco."
   ]
  },
  {
   "cell_type": "code",
   "execution_count": 28,
   "id": "4a1c5623",
   "metadata": {},
   "outputs": [
    {
     "name": "stdout",
     "output_type": "stream",
     "text": [
      "Searching closest station among 20 stations within 3.0 degrees of the reference.\n",
      "Which have data for 2021 and at least as early as 1900.0.\n",
      "Flag: Insufficent years to calculate recent trend.\n",
      "You specified that 25.0 years of data in the last 30 be present to calculate a trend, but only 19 are present.\n",
      "Station ID# USC00040693, called CA BERKELEY is incomplete. Do not use it.\n",
      "Flag: Insufficent years to calculate recent trend.\n",
      "You specified that 25.0 years of data in the last 30 be present to calculate a trend, but only 17 are present.\n",
      "Flag: Insufficent years before 1955.0 to calculate mean for baseline period.\n",
      "There are 9 years in the period 1900.0 to 1955.0, but I need 30.0 to set an accurate baseline.\n",
      "Station ID# USC00047880, called CA SAN RAFAEL CIVIC CTR is incomplete. Do not use it.\n",
      "Flag: Insufficent years to calculate recent trend.\n",
      "You specified that 25.0 years of data in the last 30 be present to calculate a trend, but only 23 are present.\n",
      "Station ID# USC00046826, called CA PETALUMA AP is incomplete. Do not use it.\n",
      "Flag: Insufficent years to calculate recent trend.\n",
      "You specified that 25.0 years of data in the last 30 be present to calculate a trend, but only 25 are present.\n",
      "Flag: Insufficent years before 1955.0 to calculate mean for baseline period.\n",
      "There are 4 years in the period 1900.0 to 1955.0, but I need 30.0 to set an accurate baseline.\n",
      "Station ID# USC00048351, called CA SONOMA is incomplete. Do not use it.\n",
      "Station ID# USC00046074, called CA NAPA STATE HOSPITAL is complete. It's good to use.\n",
      "This station is 38.37537958407562 miles from the reference point.\n"
     ]
    }
   ],
   "source": [
    "sfdata1=load.LoadStation([37.755663644,-122.506497974],False) #Trying to load in San Frnacisco coordinate using defeault.\n"
   ]
  },
  {
   "cell_type": "code",
   "execution_count": 29,
   "id": "dacad40c",
   "metadata": {},
   "outputs": [
    {
     "name": "stdout",
     "output_type": "stream",
     "text": [
      "Searching closest station among 64 stations within 3.0 degrees of the reference.\n",
      "Which have data for 2021 and at least as early as 1940.0.\n",
      "Station ID# USW00023272, called CA SAN FRANCISCO DWTN is complete. It's good to use.\n",
      "This station is 4.465465286365231 miles from the reference point.\n"
     ]
    }
   ],
   "source": [
    "sfdata2=load.LoadStation([37.755663644,-122.506497974],False,firstyear=1940,lastbaseyear=1980) #Then, force a change which wil return data."
   ]
  },
  {
   "cell_type": "markdown",
   "id": "a71424fb",
   "metadata": {},
   "source": [
    "## Review the two Weather Stations near San Francisco to see how they compare"
   ]
  },
  {
   "cell_type": "code",
   "execution_count": 31,
   "id": "be191c8a",
   "metadata": {},
   "outputs": [
    {
     "name": "stdout",
     "output_type": "stream",
     "text": [
      "Weather station found in Napa, CA using default filter parameters:\n",
      "Weather Station Name                                      CA NAPA STATE HOSPITAL\n",
      "Station ID                                                           USC00046074\n",
      "Earliest year in station record                                           1893.0\n",
      "Most recent year in record                                                2022.0\n",
      "Number of years in record meeting quality requirements                       111\n",
      "Station Latitude                                                         38.2778\n",
      "Station Longitude                                                      -122.2647\n",
      "Reference Point Latitude                                               37.755664\n",
      "Reference Point Longitude                                            -122.506498\n",
      "Miles from Reference Point                                              38.37538\n",
      "dtype: object\n",
      "Weather station found in San Francisco using altered parameters\n",
      "Weather Station Name                                      CA SAN FRANCISCO DWTN\n",
      "Station ID                                                          USW00023272\n",
      "Earliest year in station record                                          1921.0\n",
      "Most recent year in record                                               2022.0\n",
      "Number of years in record meeting quality requirements                      102\n",
      "Station Latitude                                                        37.7706\n",
      "Station Longitude                                                     -122.4269\n",
      "Reference Point Latitude                                              37.755664\n",
      "Reference Point Longitude                                           -122.506498\n",
      "Miles from Reference Point                                             4.465465\n",
      "dtype: object\n"
     ]
    }
   ],
   "source": [
    "print(\"Weather station found in Napa, CA using default filter parameters:\")\n",
    "print(sfdata1.station_information)\n",
    "print(\"Weather station found in San Francisco using altered parameters\")\n",
    "print(sfdata2.station_information)"
   ]
  },
  {
   "cell_type": "markdown",
   "id": "cdf72fca",
   "metadata": {},
   "source": [
    "# Example 4: Atlanta, Georgia\n",
    "As a last example, I will search for a station narrowly in Atlanta Georgia, by narrowing the lat/lon search radius way down and keeping the requirements for an older weather station (i.e., firstyear=1900). You will see that nothing is found, and that an error is returned telling you to change your search parameters. \n",
    "\n",
    "So, then I will relax the search radius and see what I turn up within a larger radius going back a bit further in time. And it finds one, albeit 170 miles away, in North Carolina. "
   ]
  },
  {
   "cell_type": "code",
   "execution_count": 36,
   "id": "6183b78c",
   "metadata": {},
   "outputs": [
    {
     "name": "stdout",
     "output_type": "stream",
     "text": [
      "Searching closest station among 1 stations within 0.5 degrees of the reference.\n",
      "Which have data for 2021 and at least as early as 1900.0.\n",
      "Beginning to download https://www.ncei.noaa.gov/data/global-historical-climatology-network-daily/access/USC00096335.csv (7.534769 MB). Please wait while the file is transferred.\n",
      "Time to download this station data: 4.750325918197632 seconds.\n",
      "I dropped 1891.0 for having only 2 months of data.\n",
      "I dropped 1892.0 for having only 8 months of data.\n",
      "I dropped 1893.0 for having only 8 months of data.\n",
      "I dropped 1894.0 for having only 8 months of data.\n",
      "I dropped 1900.0 for having less than 15.0s days in month # 1.0.\n",
      "I dropped 1900.0 for having less than 15.0s days in month # 2.0.\n",
      "I dropped 1900.0 for having less than 15.0s days in month # 3.0.\n",
      "I dropped 1900.0 for having less than 15.0s days in month # 4.0.\n",
      "I dropped 1900.0 for having less than 15.0s days in month # 5.0.\n",
      "I dropped 1900.0 for having less than 15.0s days in month # 6.0.\n",
      "I dropped 1900.0 for having less than 15.0s days in month # 7.0.\n",
      "I dropped 1900.0 for having less than 15.0s days in month # 8.0.\n",
      "I dropped 1900.0 for having less than 15.0s days in month # 9.0.\n",
      "I dropped 1900.0 for having less than 15.0s days in month # 10.0.\n",
      "I dropped 1916.0 for having less than 15.0s days in month # 7.0.\n",
      "I dropped 1933.0 for having less than 15.0s days in month # 11.0.\n",
      "I dropped 1944.0 for having less than 15.0s days in month # 3.0.\n",
      "I dropped 1973.0 for having only 11 months of data.\n",
      "I dropped 1979.0 for having only 11 months of data.\n",
      "I dropped 2002.0 for having only 9 months of data.\n",
      "I dropped 2003.0 for having only 3 months of data.\n",
      "I dropped 2005.0 for having only 10 months of data.\n",
      "I dropped 2006.0 for having only 10 months of data.\n",
      "I dropped 2007.0 for having only 8 months of data.\n",
      "I dropped 2008.0 for having only 1 months of data.\n",
      "I dropped 2012.0 for having only 11 months of data.\n",
      "I dropped 2015.0 for having only 3 months of data.\n",
      "I dropped 2017.0 for having less than 15.0s days in month # 4.0.\n",
      "Time to clean up this data: 0.14061999320983887 seconds.\n",
      "-------------------------------------\n",
      "Checking the completeness of the data.\n",
      "Flag: Insufficent years to calculate recent trend.\n",
      "You specified that 25.0 years of data in the last 30 be present to calculate a trend, but only 15 are present.\n",
      "Station ID# USC00096335, called GA NEWNAN 7 WNW is incomplete. Do not use it.\n",
      "I checked 2 weather stations within 0.5 degrees of [33.6639, -84.428] in all directions.\n",
      "None have data which is adequate for my use.\n",
      "Please enter a different point, or change the years you must include in the load.\n"
     ]
    }
   ],
   "source": [
    "atldata1=load.LoadStation([33.6639, -84.428],True,search_radius=0.5) #Loading in ATlanta GA data"
   ]
  },
  {
   "cell_type": "code",
   "execution_count": 39,
   "id": "8848e1c3",
   "metadata": {},
   "outputs": [
    {
     "name": "stdout",
     "output_type": "stream",
     "text": [
      "Searching closest station among 8 stations within 3.0 degrees of the reference.\n",
      "Which have data for 2021 and at least as early as 1890.0.\n",
      "Flag: Insufficent years to calculate recent trend.\n",
      "You specified that 25.0 years of data in the last 30 be present to calculate a trend, but only 25 are present.\n",
      "Flag: Insufficent years before 1955.0 to calculate mean for baseline period.\n",
      "There are 0 years in the period 1890.0 to 1955.0, but I need 30.0 to set an accurate baseline.\n",
      "Station ID# USC00316001, called NC MURPHY 4ESE is incomplete. Do not use it.\n",
      "Flag: Insufficent years to calculate recent trend.\n",
      "You specified that 25.0 years of data in the last 30 be present to calculate a trend, but only 23 are present.\n",
      "Flag: Insufficent years before 1955.0 to calculate mean for baseline period.\n",
      "There are 9 years in the period 1890.0 to 1955.0, but I need 30.0 to set an accurate baseline.\n",
      "Station ID# USC00313228, called NC FRANKLIN is incomplete. Do not use it.\n",
      "Station ID# USW00013872, called NC ASHEVILLE is complete. It's good to use.\n",
      "This station is 170.53797135931126 miles from the reference point.\n"
     ]
    }
   ],
   "source": [
    "atldata2=load.LoadStation([33.6639, -84.428],False,firstyear=1890) #Loading in ATlanta GA data"
   ]
  },
  {
   "cell_type": "code",
   "execution_count": 40,
   "id": "512fb65f",
   "metadata": {},
   "outputs": [
    {
     "data": {
      "text/plain": [
       "Weather Station Name                                      NC ASHEVILLE\n",
       "Station ID                                                 USW00013872\n",
       "Earliest year in station record                                 1889.0\n",
       "Most recent year in record                                      2022.0\n",
       "Number of years in record meeting quality requirements             128\n",
       "Station Latitude                                               35.5953\n",
       "Station Longitude                                             -82.5567\n",
       "Reference Point Latitude                                       33.6639\n",
       "Reference Point Longitude                                      -84.428\n",
       "Miles from Reference Point                                  170.537971\n",
       "dtype: object"
      ]
     },
     "execution_count": 40,
     "metadata": {},
     "output_type": "execute_result"
    }
   ],
   "source": [
    "atldata2.station_information"
   ]
  }
 ],
 "metadata": {
  "interpreter": {
   "hash": "89857a8ce8f605ea4c4e521e02daa6df3baf3747c086a309fef07dd06728ff9f"
  },
  "kernelspec": {
   "display_name": "Python 3.9.7 ('base')",
   "language": "python",
   "name": "python3"
  },
  "language_info": {
   "codemirror_mode": {
    "name": "ipython",
    "version": 3
   },
   "file_extension": ".py",
   "mimetype": "text/x-python",
   "name": "python",
   "nbconvert_exporter": "python",
   "pygments_lexer": "ipython3",
   "version": "3.9.7"
  }
 },
 "nbformat": 4,
 "nbformat_minor": 5
}
